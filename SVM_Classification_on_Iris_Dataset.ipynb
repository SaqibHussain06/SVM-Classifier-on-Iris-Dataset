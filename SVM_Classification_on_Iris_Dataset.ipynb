{
  "nbformat": 4,
  "nbformat_minor": 0,
  "metadata": {
    "colab": {
      "name": "SVM Classification on Iris Dataset.ipynb",
      "provenance": []
    },
    "kernelspec": {
      "name": "python3",
      "display_name": "Python 3"
    }
  },
  "cells": [
    {
      "cell_type": "code",
      "metadata": {
        "id": "kBxw7zzPiip9"
      },
      "source": [
        "# Step1: Import required packages\n",
        "from sklearn.model_selection import train_test_split\n",
        "from sklearn.metrics import accuracy_score\n",
        "from sklearn.svm import SVC\n",
        "from pandas import read_csv"
      ],
      "execution_count": 2,
      "outputs": []
    },
    {
      "cell_type": "code",
      "metadata": {
        "id": "ofnzoy7Ri3wf",
        "outputId": "d5ac4676-9cbc-413a-d8ad-1bab717e23f8",
        "colab": {
          "base_uri": "https://localhost:8080/"
        }
      },
      "source": [
        "# Step1: Import Google Drive\n",
        "from google.colab import drive\n",
        "drive.mount('/content/drive')"
      ],
      "execution_count": 3,
      "outputs": [
        {
          "output_type": "stream",
          "text": [
            "Mounted at /content/drive\n"
          ],
          "name": "stdout"
        }
      ]
    },
    {
      "cell_type": "code",
      "metadata": {
        "id": "LH2fdGQ3jWiA"
      },
      "source": [
        "# link to download dataset http://archive.ics.uci.edu/ml/datasets/iris\n",
        "# Step2: Load dataset\n",
        "dataset = read_csv('/content/drive/My Drive/iris.csv.data')\n"
      ],
      "execution_count": 4,
      "outputs": []
    },
    {
      "cell_type": "code",
      "metadata": {
        "id": "b-t6gLsejl-C"
      },
      "source": [
        "# Step 3: Split the data in training and testing subsets\n",
        "D = dataset.values\n",
        "x = D[:,0:4]\n",
        "y = D[:,4]\n",
        "x_train, x_test, y_train, y_test = train_test_split(x,y, test_size=0.2)\n"
      ],
      "execution_count": 5,
      "outputs": []
    },
    {
      "cell_type": "code",
      "metadata": {
        "id": "UoY0CzsIj5g8",
        "outputId": "4d37bcee-767f-417d-8cf4-cedd708d7876",
        "colab": {
          "base_uri": "https://localhost:8080/"
        }
      },
      "source": [
        "# Step 4: Classifier training using Support Vector Machine \n",
        "model = SVC()\n",
        "model.fit(x_train, y_train)"
      ],
      "execution_count": 8,
      "outputs": [
        {
          "output_type": "execute_result",
          "data": {
            "text/plain": [
              "SVC(C=1.0, break_ties=False, cache_size=200, class_weight=None, coef0=0.0,\n",
              "    decision_function_shape='ovr', degree=3, gamma='scale', kernel='rbf',\n",
              "    max_iter=-1, probability=False, random_state=None, shrinking=True,\n",
              "    tol=0.001, verbose=False)"
            ]
          },
          "metadata": {
            "tags": []
          },
          "execution_count": 8
        }
      ]
    },
    {
      "cell_type": "code",
      "metadata": {
        "id": "u5aFjQ27kA9n",
        "outputId": "00db23f5-56fd-472f-b408-b3708ff9f9ea",
        "colab": {
          "base_uri": "https://localhost:8080/"
        }
      },
      "source": [
        "# Step 5: Check classifier accuracy on test data and see result \n",
        "prediction = model.predict(x_test)\n",
        "print(\"Accuracy: \", accuracy_score(y_test, prediction))"
      ],
      "execution_count": 10,
      "outputs": [
        {
          "output_type": "stream",
          "text": [
            "Accuracy:  0.9333333333333333\n"
          ],
          "name": "stdout"
        }
      ]
    },
    {
      "cell_type": "code",
      "metadata": {
        "id": "-OUwB6kZkuUI"
      },
      "source": [
        ""
      ],
      "execution_count": null,
      "outputs": []
    }
  ]
}